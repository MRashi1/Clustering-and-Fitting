{
 "cells": [
  {
   "cell_type": "code",
   "execution_count": null,
   "id": "dac7a421-1317-4141-8739-dc021284da3b",
   "metadata": {},
   "outputs": [],
   "source": []
  }
 ],
 "metadata": {
  "kernelspec": {
   "display_name": "",
   "name": ""
  },
  "language_info": {
   "name": ""
  }
 },
 "nbformat": 4,
 "nbformat_minor": 5
}
